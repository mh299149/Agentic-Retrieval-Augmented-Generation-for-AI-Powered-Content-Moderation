{
  "cells": [
    {
      "cell_type": "markdown",
      "metadata": {
        "id": "rkmO_QZFcLz8"
      },
      "source": [
        "# **Installation and Imports**"
      ]
    },
    {
      "cell_type": "code",
      "execution_count": null,
      "metadata": {
        "id": "HMRJZ5akaHeq"
      },
      "outputs": [],
      "source": [
        "!pip install sentence_transformers\n",
        "!pip install requests\n",
        "!pip install chromadb"
      ]
    },
    {
      "cell_type": "code",
      "execution_count": null,
      "metadata": {
        "id": "lPJIhu7QO5n7"
      },
      "outputs": [],
      "source": [
        "import pandas as pd\n",
        "import chromadb\n",
        "from chromadb.utils import embedding_functions\n",
        "from sentence_transformers import SentenceTransformer\n",
        "from huggingface_hub import InferenceClient\n",
        "import numpy as np\n",
        "import os\n",
        "import requests\n",
        "from google.colab import files\n",
        "import re\n",
        "from xml.etree import ElementTree as ET\n",
        "import html\n",
        "import requests"
      ]
    },
    {
      "cell_type": "markdown",
      "metadata": {
        "id": "ebpLwkEFcYhT"
      },
      "source": [
        "# **File Upload and Reading**"
      ]
    },
    {
      "cell_type": "code",
      "execution_count": null,
      "metadata": {
        "colab": {
          "base_uri": "https://localhost:8080/",
          "height": 71
        },
        "id": "J77qCbg9eM4Y",
        "outputId": "3a25fd70-a225-41be-d172-f86a29ea499d"
      },
      "outputs": [
        {
          "data": {
            "text/html": [
              "\n",
              "     <input type=\"file\" id=\"files-e93a1f4e-3f9a-446e-8c5b-4f39cde87d46\" name=\"files[]\" multiple disabled\n",
              "        style=\"border:none\" />\n",
              "     <output id=\"result-e93a1f4e-3f9a-446e-8c5b-4f39cde87d46\">\n",
              "      Upload widget is only available when the cell has been executed in the\n",
              "      current browser session. Please rerun this cell to enable.\n",
              "      </output>\n",
              "      <script>// Copyright 2017 Google LLC\n",
              "//\n",
              "// Licensed under the Apache License, Version 2.0 (the \"License\");\n",
              "// you may not use this file except in compliance with the License.\n",
              "// You may obtain a copy of the License at\n",
              "//\n",
              "//      http://www.apache.org/licenses/LICENSE-2.0\n",
              "//\n",
              "// Unless required by applicable law or agreed to in writing, software\n",
              "// distributed under the License is distributed on an \"AS IS\" BASIS,\n",
              "// WITHOUT WARRANTIES OR CONDITIONS OF ANY KIND, either express or implied.\n",
              "// See the License for the specific language governing permissions and\n",
              "// limitations under the License.\n",
              "\n",
              "/**\n",
              " * @fileoverview Helpers for google.colab Python module.\n",
              " */\n",
              "(function(scope) {\n",
              "function span(text, styleAttributes = {}) {\n",
              "  const element = document.createElement('span');\n",
              "  element.textContent = text;\n",
              "  for (const key of Object.keys(styleAttributes)) {\n",
              "    element.style[key] = styleAttributes[key];\n",
              "  }\n",
              "  return element;\n",
              "}\n",
              "\n",
              "// Max number of bytes which will be uploaded at a time.\n",
              "const MAX_PAYLOAD_SIZE = 100 * 1024;\n",
              "\n",
              "function _uploadFiles(inputId, outputId) {\n",
              "  const steps = uploadFilesStep(inputId, outputId);\n",
              "  const outputElement = document.getElementById(outputId);\n",
              "  // Cache steps on the outputElement to make it available for the next call\n",
              "  // to uploadFilesContinue from Python.\n",
              "  outputElement.steps = steps;\n",
              "\n",
              "  return _uploadFilesContinue(outputId);\n",
              "}\n",
              "\n",
              "// This is roughly an async generator (not supported in the browser yet),\n",
              "// where there are multiple asynchronous steps and the Python side is going\n",
              "// to poll for completion of each step.\n",
              "// This uses a Promise to block the python side on completion of each step,\n",
              "// then passes the result of the previous step as the input to the next step.\n",
              "function _uploadFilesContinue(outputId) {\n",
              "  const outputElement = document.getElementById(outputId);\n",
              "  const steps = outputElement.steps;\n",
              "\n",
              "  const next = steps.next(outputElement.lastPromiseValue);\n",
              "  return Promise.resolve(next.value.promise).then((value) => {\n",
              "    // Cache the last promise value to make it available to the next\n",
              "    // step of the generator.\n",
              "    outputElement.lastPromiseValue = value;\n",
              "    return next.value.response;\n",
              "  });\n",
              "}\n",
              "\n",
              "/**\n",
              " * Generator function which is called between each async step of the upload\n",
              " * process.\n",
              " * @param {string} inputId Element ID of the input file picker element.\n",
              " * @param {string} outputId Element ID of the output display.\n",
              " * @return {!Iterable<!Object>} Iterable of next steps.\n",
              " */\n",
              "function* uploadFilesStep(inputId, outputId) {\n",
              "  const inputElement = document.getElementById(inputId);\n",
              "  inputElement.disabled = false;\n",
              "\n",
              "  const outputElement = document.getElementById(outputId);\n",
              "  outputElement.innerHTML = '';\n",
              "\n",
              "  const pickedPromise = new Promise((resolve) => {\n",
              "    inputElement.addEventListener('change', (e) => {\n",
              "      resolve(e.target.files);\n",
              "    });\n",
              "  });\n",
              "\n",
              "  const cancel = document.createElement('button');\n",
              "  inputElement.parentElement.appendChild(cancel);\n",
              "  cancel.textContent = 'Cancel upload';\n",
              "  const cancelPromise = new Promise((resolve) => {\n",
              "    cancel.onclick = () => {\n",
              "      resolve(null);\n",
              "    };\n",
              "  });\n",
              "\n",
              "  // Wait for the user to pick the files.\n",
              "  const files = yield {\n",
              "    promise: Promise.race([pickedPromise, cancelPromise]),\n",
              "    response: {\n",
              "      action: 'starting',\n",
              "    }\n",
              "  };\n",
              "\n",
              "  cancel.remove();\n",
              "\n",
              "  // Disable the input element since further picks are not allowed.\n",
              "  inputElement.disabled = true;\n",
              "\n",
              "  if (!files) {\n",
              "    return {\n",
              "      response: {\n",
              "        action: 'complete',\n",
              "      }\n",
              "    };\n",
              "  }\n",
              "\n",
              "  for (const file of files) {\n",
              "    const li = document.createElement('li');\n",
              "    li.append(span(file.name, {fontWeight: 'bold'}));\n",
              "    li.append(span(\n",
              "        `(${file.type || 'n/a'}) - ${file.size} bytes, ` +\n",
              "        `last modified: ${\n",
              "            file.lastModifiedDate ? file.lastModifiedDate.toLocaleDateString() :\n",
              "                                    'n/a'} - `));\n",
              "    const percent = span('0% done');\n",
              "    li.appendChild(percent);\n",
              "\n",
              "    outputElement.appendChild(li);\n",
              "\n",
              "    const fileDataPromise = new Promise((resolve) => {\n",
              "      const reader = new FileReader();\n",
              "      reader.onload = (e) => {\n",
              "        resolve(e.target.result);\n",
              "      };\n",
              "      reader.readAsArrayBuffer(file);\n",
              "    });\n",
              "    // Wait for the data to be ready.\n",
              "    let fileData = yield {\n",
              "      promise: fileDataPromise,\n",
              "      response: {\n",
              "        action: 'continue',\n",
              "      }\n",
              "    };\n",
              "\n",
              "    // Use a chunked sending to avoid message size limits. See b/62115660.\n",
              "    let position = 0;\n",
              "    do {\n",
              "      const length = Math.min(fileData.byteLength - position, MAX_PAYLOAD_SIZE);\n",
              "      const chunk = new Uint8Array(fileData, position, length);\n",
              "      position += length;\n",
              "\n",
              "      const base64 = btoa(String.fromCharCode.apply(null, chunk));\n",
              "      yield {\n",
              "        response: {\n",
              "          action: 'append',\n",
              "          file: file.name,\n",
              "          data: base64,\n",
              "        },\n",
              "      };\n",
              "\n",
              "      let percentDone = fileData.byteLength === 0 ?\n",
              "          100 :\n",
              "          Math.round((position / fileData.byteLength) * 100);\n",
              "      percent.textContent = `${percentDone}% done`;\n",
              "\n",
              "    } while (position < fileData.byteLength);\n",
              "  }\n",
              "\n",
              "  // All done.\n",
              "  yield {\n",
              "    response: {\n",
              "      action: 'complete',\n",
              "    }\n",
              "  };\n",
              "}\n",
              "\n",
              "scope.google = scope.google || {};\n",
              "scope.google.colab = scope.google.colab || {};\n",
              "scope.google.colab._files = {\n",
              "  _uploadFiles,\n",
              "  _uploadFilesContinue,\n",
              "};\n",
              "})(self);\n",
              "</script> "
            ],
            "text/plain": [
              "<IPython.core.display.HTML object>"
            ]
          },
          "metadata": {},
          "output_type": "display_data"
        },
        {
          "name": "stdout",
          "output_type": "stream",
          "text": [
            "Saving 110_97723_133067_million_dollar_baby.xml to 110_97723_133067_million_dollar_baby (1).xml\n"
          ]
        }
      ],
      "source": [
        "uploaded = files.upload()"
      ]
    },
    {
      "cell_type": "code",
      "execution_count": null,
      "metadata": {
        "id": "ujLDo3d9x7YV"
      },
      "outputs": [],
      "source": [
        "file_path = '/content/110_97723_133067_million_dollar_baby.xml'"
      ]
    },
    {
      "cell_type": "code",
      "execution_count": null,
      "metadata": {
        "id": "_5xhCwmufCLl"
      },
      "outputs": [],
      "source": [
        "with open(file_path, 'r') as file:\n",
        "    # Read the contents of the file\n",
        "    text = file.read()"
      ]
    },
    {
      "cell_type": "markdown",
      "metadata": {
        "id": "WCtGJUccceHR"
      },
      "source": [
        "# **Text Preprocessing**"
      ]
    },
    {
      "cell_type": "code",
      "execution_count": null,
      "metadata": {
        "id": "GMhP2yF3yDmE"
      },
      "outputs": [],
      "source": [
        "def preprocess_subtitles(text):\n",
        "    ids = []  # List to hold ids\n",
        "    texts = []  # List to hold texts\n",
        "    # Find <s> tags\n",
        "    matches = re.findall(r'<s id=\"(\\d+)\">(.*?)<\\/s>', text, re.DOTALL)\n",
        "    for match in matches:\n",
        "        s_id, s_content = match\n",
        "        # Decode HTML entities\n",
        "        s_text = html.unescape(s_content)\n",
        "        # Remove <w> tags and directly capture their content, and remove other tags\n",
        "        s_text = re.sub(r'<w id=\".*?\">(.*?)<\\/w>', r'\\1', s_text)\n",
        "        s_text = re.sub(r'<.*?>', '', s_text)\n",
        "        # Clean-up specific unwanted patterns like encoded <i>, [ ], and any leftovers\n",
        "        s_text = s_text.replace('<i>[', '').replace(']</i>', '').replace('</ i>', '')\n",
        "        # Normalize spaces\n",
        "        s_text = ' '.join(s_text.split())\n",
        "        # Append processed id and text to their respective lists\n",
        "        ids.append(s_id)\n",
        "        texts.append(s_text)\n",
        "    return ids, texts"
      ]
    },
    {
      "cell_type": "code",
      "execution_count": null,
      "metadata": {
        "colab": {
          "base_uri": "https://localhost:8080/"
        },
        "id": "jas8TxsE90CB",
        "outputId": "746e606d-fa53-4a5a-a5e7-aeaf10b89a56"
      },
      "outputs": [
        {
          "name": "stdout",
          "output_type": "stream",
          "text": [
            "I' ve only ever met one man i wouldn' t want to fight when i met him he was already the best cut man in the business started training and managing in the 60' s , never lost his gift .\n",
            "2\n"
          ]
        }
      ],
      "source": [
        "ids_list, preprocessed_subtitles = preprocess_subtitles(text)\n",
        "print(preprocessed_subtitles[1])\n",
        "print(ids_list[1])"
      ]
    },
    {
      "cell_type": "markdown",
      "metadata": {
        "id": "f6hR2q9qcm5H"
      },
      "source": [
        "# **Text Embedding and Retrieval System**"
      ]
    },
    {
      "cell_type": "code",
      "execution_count": null,
      "metadata": {
        "id": "-KrK79sBsx3h"
      },
      "outputs": [],
      "source": [
        "chroma_client = chromadb.Client()\n",
        "collection = chroma_client.create_collection(name=\"subtitles_million\")"
      ]
    },
    {
      "cell_type": "code",
      "execution_count": null,
      "metadata": {
        "id": "kWuRVQMk4MuL"
      },
      "outputs": [],
      "source": [
        "sentence_ids = list(map(str, preprocessed_subtitles))"
      ]
    },
    {
      "cell_type": "code",
      "execution_count": null,
      "metadata": {
        "id": "MBRHfmrWsx_n"
      },
      "outputs": [],
      "source": [
        "collection.add(\n",
        "    documents= sentence_ids,\n",
        "    ids=ids_list\n",
        ")"
      ]
    },
    {
      "cell_type": "code",
      "execution_count": null,
      "metadata": {
        "id": "gPR7jn7BwYU9"
      },
      "outputs": [],
      "source": [
        "def text_embedding(text) -> None:\n",
        "    model = SentenceTransformer('sentence-transformers/all-MiniLM-L6-v2')\n",
        "    return model.encode(text)"
      ]
    },
    {
      "cell_type": "code",
      "execution_count": null,
      "metadata": {
        "id": "1_J3ayhHsyFw"
      },
      "outputs": [],
      "source": [
        "def generate_context(query):\n",
        "    vector=text_embedding(query).tolist()\n",
        "\n",
        "    results=collection.query(\n",
        "        query_embeddings=vector,\n",
        "        n_results=400,\n",
        "        include=[\"documents\"]\n",
        "    )\n",
        "\n",
        "    res = \"\\n\".join(str(item) for item in results['documents'][0])\n",
        "    return res"
      ]
    },
    {
      "cell_type": "code",
      "execution_count": null,
      "metadata": {
        "id": "Z1oeUTx-wEEc"
      },
      "outputs": [],
      "source": [
        "query=\"What should I know about this movie before recommending it to my 10 years old kid\"\n",
        "context=generate_context(query)"
      ]
    },
    {
      "cell_type": "code",
      "execution_count": null,
      "metadata": {
        "colab": {
          "base_uri": "https://localhost:8080/",
          "height": 87
        },
        "id": "KGtACDjewEHT",
        "outputId": "1535e291-353e-4f3b-b23b-6bf7fe55ccdc"
      },
      "outputs": [
        {
          "data": {
            "application/vnd.google.colaboratory.intrinsic+json": {
              "type": "string"
            },
            "text/plain": [
              "\"Wants to know what your reading .\\nYou watch it ?\\nLittle girl tends to be coming along .\\nWhat' s this ?\\nYou already taught me everything I need to know .\\nIf i' m too old for this then i got nothing . that enough truth to see to you ?\\nSally' s trying to set a fight with julia ?\\nIt' s beautiful man , it' s like poetry .\\nHeard about Willie , it' s cold , it' s dead cold , plus it wouldn' t be so bad if you weren' t so damn old .\\nDangerous showed up a couple years back , it comes to everything to LA with errilville , ... new boyfriend , apparently errilville got lost , and ended up back in Texas .\\nWhat is it ?\\nNothing .\\nYou wont never regret it .\\nNo take the bag , haven' t seen it in 20yrs anyway .\\nYeah I watched it .\\nGracey broke down crying when she saw it .\\nI' m trying to read here .\\nWell i' d be tempted but , i couldn' t say for sure , might find it' s way to the track .\\nSugar ray would do that . Girls got sugar .\\nWell maggie fitzgerald , what' s up ?\\nWhat ya reading ?\\nIt' s like poetry .\\nMr dunn ?\\nDanger looked for him , bout a week before he introduced himself .\\nSon of god , dont play stupid .\\nIt' s a tape on that girl in england your gonna fight .\\nWhat' s danger doing out there ?\\nMaggie left no doubt about it .\\nWell I remember walking half way and thinking i was gonna be lynched .\\nCheeseburger ?\\nShe grew up knowing one thing , she was trash .\\nBut danger wanted to give it his best answer .\\nThought you might change your mind .\\nHow could you afford HBO ?\\nWhen the hell they gonna get to her ?\\nDidn' t seem to matter to her that something like that could kill a person and the crowds loved her .\\nI' m , i' m thinking how i' m gonna hit it hard for ya mr ( name ) .\\n20 seconds that' s all you got , now get going .\\nYou' ve been reading that shit .\\nDanger , your going back to training .\\nI dont wanna hear about it either way , that' s just the way its gonna be , its the only way i' il do it .\\nHere you go , here YOU go .\\nSo You wanna give this a try see if it' s a fit ?\\nDid you happen to see it ?\\nHey get the hell down , know how old i am ?\\nWhat about the Holy ghost ?\\nIf your gonna go for the title we got some moves ...\\nGot it right here .\\nWant my advice ?\\nOffered us a title shot .\\nIt' s all i ask .\\nSee there you go .\\nWhat you learn tonight ?\\nAlright , ok .\\n( studying language outloud ) what the hell kind of language is that ?\\nWhat ?\\nWhat ?\\nWhat ?\\nWhat ?\\nWhat ?\\nDid you write your daughter ?\\nDid you write your daughter ?\\nHOw old are you ?\\nI' ve had 3 since then , just uh , just enjoy it will ya ?\\nWhat' s he looking at ?\\nLet him hit you . cuts too high , too close to the bone ,\\nI can' t , i' ve gotta call it .\\nI' m not gonna live forever .\\nShe keeps hitting it like that she gonna break her wrists .\\nYou go on and eat your cupcake .\\nOk , go give it to her .\\nWhy won' t ya talk a little yates to her , show her what a treat that is .\\nThat' s ( name ) washington' s girl , hell of a fighter , 11- 0 .\\nOh i can' t frankie , middle' s got a piano lesson , i told Grace i' d drive .\\nYou can' t just tell em to forget everything you know , you gotta make them forget it in their bones .\\nOk , as soon as i get the money .\\nDon' t hardly know him .\\nAnnie too , other than that , you know what i want , there' s no use repeating myself .\\nHe did good .\\nFighter i' m calling it .\\nI dont feel that old .\\nYeah i got HBO .\\nHow' s it going scrap ?\\nHe' s fine , he' s fine .\\nWhen she does you step to the side , come over wit a goodnight hook .\\n6 Months .\\nI need to look at him .\\nWhat is it you want ?\\nIt' s a title you can' t take away , she' s got nothing to lose , you got nothing to win .\\nSaving it .\\nTrouble in my family comes by the pound .\\nYou gonna argue with me ?\\nJust dont lose it .\\nThen you got 10 seconds .\\nLet it drop .\\nWell I can' t just lend it to anybody you know .\\nIt wasn' t .\\nWillie did good .\\nNO sorry .\\nBig willie ,\\nSeconds up , lets go .\\nI can' t , i can' t .\\nYour gonna find a trainer either in this gym or somewhere else that' s gonna wanna train a girl , it' s the latest freak show out there , but the only trouble is your gonna be they' re wasting your time because your too old .\\nThere' s some things people just dont wanna hear .\\nSet in the cedars and oak trees somewhere between nowhere and goodbye .\\nThe next was to fight , the british champ , the jamaican girl billy just beat .\\nLonnie might let Sally lightweight fight julia ( name ) for the title .\\nCourse if maggie loses , wouldn' t mean a thing to Sally , might even help him on his card gets another win ,\\nFrankie , most people figure out by kindergarden it' s about faith .\\nDanger , i want you thinking bout that punch i' il brb .\\nOh , something wrong with Grace' s car ?\\n( language study )\\nHow much she weigh ?\\nJust go hit the bag .\\nWell it aint no big secret ( ... ) for .\\nFine , you did fine .\\nNo , well i got a daughter , katie .\\nWhat kind of training is that ?\\nI thought that was the point .\\nYou bought me a cheeseburger ?\\nWouldn' t have been my choice for a first fight but Sally' s a good manager , must think she can take her .\\nGirlie , tough aint enough .\\nYou gonna leave me again ?\\nMy name is Dangerous Dillard fighting flipo bam bam ... out of Broward county Texas .\\nAlright , now you dont want to hit him when he' s coming toward ya cause what he' s gonna do is just push you back and is gonna smuggle your punches take you by ( respect ) , so you watch him real carefully , keep rotating , that keeps your head moving and keep one shoulder back so you' re always ready to fire power shot , alright now go ahead now, good good , keep rotating, keep moving , that' s it , good good , keep that chin tucked in , come around keep moving , keep moving , good ... yeah ?\\nYou gotta move your feet , that' s one of the best things i' m gonna be able to teach ya . so here' s what you do ,\\nYou gave me away how is that protecting me ?\\nYa well i remember , and excuse me ,\\nIf i was thinking straight i' d go back home , find a used trailer , buy a deep fryer and some oreos , problem is this the only thing i ever felt good doing .\\nIt' s a title match right ?\\nAbsolutely .\\nOh same ol one god tree god thing .\\nI' m gonna teach ya how to fight then we get you a manager and i' m off down the road .\\nWell i couldn' t eat it , and i ordered it .\\nThat' s family .\\nDid you watch the fight ?\\nSo what do you think , Im ready for a fight ?\\nThen I might as well just keep calling you it .\\nHey , come here .\\nNot interested .\\nlook like your gonna hit something .\\nHe moved her up in class , that could have been a mistake .\\nThink i might be ready for a fight boss ?\\nIt' s my fighter .\\nYeah it' s okay .\\nI did pretty good , thought you might be interested in training me .\\nThis bag ?\\nGo ahead and blow em .\\nIn 23years he' s never said a thing about it .\\nIt' s galac .\\nYou wouldn' t start traing to be a ballerina at 31 now would ya ?\\nIt' s her birthday .\\nWhat she saying ?\\nPaying an extra 1000 dollars for your own car ( ... ) is a favor .\\nShe hates that car , wants the old one back but dealer wont do it , says he already got a buyer .\\nNow What i want you to do is not about hitting it hard , is how good you hit it . so watch me , and you can count with me if you want , just count on a one count .\\nBut he' s hurting me , making my heart watching him punch the air like it' s gonna punch back .\\nI' m sorry to come on your house like this ,\\nSomebody tell me what' s going on .\\nThink i' m ready for a fight boss ?\\nWhat the hells that ?\\nDidn' t take maggie long to hit a strive .\\nMaggie always did like taking em out in the first round .\\nWon' t hardly need a dozen boss , you' il do fine .\\nInhale , inhale , breath in .\\nNo reason .\\nMight still be a good fight .\\nCanvas has titties .\\nYou show em how to stand , keep their legs under their shoulders .\\n31 .\\nIt' s for my dog .\\nStop .\\nWanna talk ?\\nLook Willie , you' ve one shot at the title , you lose , it may not come around again 2 or 3 more fights and you' il be ready .\\nDanger you through a punch you get the hell out of this gym .\\nI appreciate any help i can get .\\nWell i' m confused .\\nSally here is a real good manager , has a couple of golden glove boys ,\\nYeah manager ran off , left you and me to hitch home , don' t you remember nothing ?\\nNice night aint it ?\\nHere .\\nLook just listen to me ...\\nNO not quite ,\\nWell there you go .\\nWell i got the gym , dont need to be training fighters at my age .\\nThat' s what you got to say ?\\nDont ' get carried away now .\\nI Got it ( didn' t ) embarassing myself .\\nAnd dont come crying to me if you get hurt . Alrighty .\\nLooks like a bottle of water .\\nThat' s a lot of money boss .\\nMickie mac' s a business man , he can' t teach ya nothing .\\nBy doing this .\\nWell neither do I but you don' t see me fighting 21 yr olds do ya , it takes about 4 years to train a fighter .\\nWhat did HOgan want ?\\nSaw your last flash shot Will , spend so much time face down , I thought the canvas had titties .\\nWhy not boot , it' s perfect boot , cause you know why , cause she are you , you could fight to him and then you could kiss to him , and then you fight to him one more time .\\nI' il just borrow it till i buy my own .\\nAfter a 12 straight knock out , frankie got a couple of real good offers , the first was to fight billy the blue bare osterman for the wba welter weight title .\\nOnly way this guy said he' d take me is if he took me to the title .\\nIt' s the magic of risking everything for a dream that nobody see' s but you .\\n( ... ) wait long enough , you got nothing .\\nAnd I challenge the motor city cobra ,\\nWillie the title is just 2 fights away .\\nWas last night .\\nIt aint about connections frankie , it' s about you not believing in him .\\n( name ) has a lot of good fighters , gots julia ( name ) lightweight champ .\\nThanks .\\nYour doing a hell of a job of it sally , is this the way you advise your lightweight ?\\nHOld it , hold it , i' il show you a few things , and then we' il get you a trainer .\\nKnow better than do that boss . well ... good .\\nIt aint fitting real well sally .\\nFather that was a great sermon . Every week .\\nLie down now , rest and we' il talk about this when you regain your senses .\\nPeople love violence , they' il slow down at a car wreck to check for bodies , same people claim to love boxing , they got no idea what it is .\\nGive his momma back her tights .\\nHey Sally , come here for a minute will ya ?\\nShe' d come 1800 miles but the ( adultra ) was still just over the hill .\\nJust pull the door closed when you leave .\\nNo sir .\\nNo sir .\\nWell dO your best lord , protect katie ...\\nThat ( ... ) ?\\nDoing good nicky , doing good . what' il ya have ?\\nAlready been working it for 3years .\\nMy god .\\nWhats the rule ?\\nI' ve got the breathing thing down .\\nThere in a feet .\\nI remember you leaving me with my dick in my hand behind that gas station .\\nYa , Here , keep the god damn thing .\\nAlways protect myself .\\nAlways protect myself .\\nI need somebody in the action that can make things happen , and i got to make a change before the fight .\\nI' il be damned flipper .\\nYeah well it might be a stretch but , you got to get yourself a place of your own .\\nWhy you telling me that ?\\nWhat was i supposed to do , just put him in over his head , not protect him ?\\nYeah , almost like someones been helping her .\\nWell i hate to say it but it shows .\\nHow long have i been telling you to save your money ?\\nWell I found him , I stuck with him for 8 years how' s that for not believing in him .\\nNobody tells you what that number is .\\nThat' s a girl man ?\\nHey Willie .\\nJust one of those questions you ask .\\nI mean for a girl .\\nWE' re not exactly close .\\nNo .\\nNo .\\nOh you dont have to thank me .\\nThere' s dozen of trainers who train girls , you wont have any trouble finding one .\\nBleach smells like bleach .\\nWell Looking for a good one .\\nOk one .\\nHey scruff ...\\nIts Yates , keep your head back .\\nEverybody gots a particular number of fights in em ,\\nYou came in here to tell me that Big willie is not talking to Mickie Mac ?\\nStop stop stop , god damnit stop .\\nIt smells better frankie .\\nThomas Hitman Earns to fight me for the welter weight championship of the whole world .\\nHow many times do i got to tell you that bleach is bleach .\\nSherrile , leave him alone .\\nSo i get to the title fight , and this guy takes you there .\\nWillie tell you why ?\\nYou could have gotten him a title fight 2 years ago , now he knew that i' m amazed he stayed around this long .\\nThe only reason you can romance at me is to wind me up , it' s not gonna happen this morning .\\nIt' s the rule , always protect yourself ,\\nJust say one please .\\nBout time .\\nYou know you save enough of it you get yourself a new house , cash no mortgage .\\nYou get yourself , bend your knees , get in an athletic position ,\\nIs it sorta like snap , crackle and pop all rolled up in one big box ?\\nYou uh , you forgot the rule , now what is the rule ?\\nLook I was late , Sally was just subbin for me .\\nThanks man .\\nYeah , not very big , used to be real athletic , dont know if she kept it up .\\nEvery week .\\nThe' re all kinds of combinations you come up against down in the different layers of meat and frankie knew how to work every one .\\nDrink your water .\\nMaybe you should , people seen me fight say i' m pretty tough .\\nWwhat do we do ? tell me what to do .\\nOk , if i' m gonna take you on ...\\nBilly was a former prostitue out of east Berlin , had a reputation for being the dirtiest fighter in the ranks .\\nI owe you money ?\\nWill do miss graff .\\nThank you .\\nThank you .\\nThank you .\\nIt' s just frankie and me .\\nIf you think that is more important .\\nLook you seem like a nice girl , can i give you some advice ?\\nYou want it ?\\nFrankie found out .\\nSo you been working on yourself , learning to open up that' s good work .\\nHold the bag stupid .\\nDont ' you say that , dont you say that if it aint true .\\nOk .\\n31 , until my next birthday .\\nI' il give you a ride .\\nSure .\\nThought i told you i didn' t want danger working out here anymore .\\nMmmhmm didn' t do you a lot good tho did it ?\\nAnytime .\\nSOmebody' s gotta be honest with ya .\\nYou spending all this time with me I didn' t know if you had any ?\\nWhat machine ?\\nProtect myself at all times .\\nWorking the bag boss .\\nI' il just borrow it til i can buy my own .\\nJust push will you ?\\nGood , cause i think your ready for a fight .\\nOk You did two things wrong .\\nShow em how to keep their balance and take it away from the other guy .\\nI know boss .\\nMaggie didn' t knock her out til the end of the first round , after that no manager wanted to put his fighter in with maggie .\\nNope .\\nAll fighters are pig headed someway or another , some part of them always thinks they know better than you about something . can you uh spare a few minutes for the immaculate conception ?\\nMr micky mack , i' m maggie fitzgerald , i hear your a real good manager doing good things for big Willie , but i' d thought you should know i aint never leaving mr dunn , so you dont need to make anymore excuses to bump into me , sorry for interrupting your dinner .\\nIs To protect yourself at all times .\\nIt' s a mistake .\\nDont really know sir .\\nLooks like She' s got something .\\nSome People say the most important thing a fighter can have is heart .\\nOk huh ?\\nHate to disagree with you .\\nThink your right .\\nThose some nice tights , danger .\\nFrankly i' d learn to protect your face a lil better wouldn' t have to turn down this money .\\nBobby wanted to move to florida and frankie wanted some security .\\nIt' s only thursday .\\nI' ve seen what you can do , fix it .\\nI' d appreciate that .\\nI' d appreciate that .\\nOnly way he' d do it , i' m sorry Frankie , i' m no longer waiting on a title , I wish you could have been with me .\\nEver since i fought Louis typhoon johnson at the stadium club in tupulo mississippi .\\nlooking for a girl sally ?\\nI dont care , get your teeth knocked out , i dont care ,\\nYeah well i got a ride , the guy took off before i hardly closed the door , had to walk back 2 miles .\\nHey what do i know , i just come cause i enjoy the fights .\\nHey you a bad man huh ? hey come on get in the ring , go a round with me .\\nHOw you doing ?\\nGo around wasting it on things that don' t matter and what you got ?\\nAll right ,\\nYou got any family boss ?\\nI dont train girls .\\nI dont train girls .\\nHe turned her down without even telling her .\\nYes he is .\\nDont ' call me boss now , i' m not your boss , and dont you be calling me that .\\nYour wasting your time , I told you I dont train girls .\\nOne .\\nThe body knows what fighters dont , how to protect itself .\\nYa .\\nNow what is the rule ?\\nJust working on my foot work mr ( name ) .\\nGood good .\\nIf i stop calling you boss will you train me ?\\nWhat the hell are you doing ?\\nHey , you know , I gots nothing against niggers .\\nGood girl .\\nHe turned that down too .\\nWillie you ready to work ?\\nMargret Fitgerald ?\\nGod this is a mistake already . mmm mmm i' m listening boss .\\nI' m gonna need that speed bag back .\\nYeah this is my fighter .\\nFine , you take her , she can' t fight worth a shit anyway .\\nYou were a hell of a fighter , a lot better than Willie , he get you a title fight or .. did he just bust you out banging your head against other people' s fist until you lost your eye ?\\nIs something wrong ?\\nNot a word , neither one of them .\\nHow much' s she paid ?\\nIf you say frankie .\\nCan' t think it was the bag .\\n1 is you asked a question and 2 is you asked another question .\\nDanger , i' m wearing these mits for a reason .\\nWell that' s nice to hear .\\nI know your momma ?\\nGo on home now .\\nReally ?\\nWhat' s confusing you this week ?\\nHello ?\\nIf yours behind the counter , wish i could say wheres it at\\nOww\\nHeya mr buda ..\\nHey come here , come here , your dropping your left hand , quit dropping your left hand .\\nEverytime you get into pressure your holding your breath , now stop doing that .\\nI hear ya boss .\\nIf there' s magic in boxing , its the magic of fighting battles beyond endurance , beyond cracked rips , ruptured kidneys and detached raetna' s .\\nFrankie liked to say that boxing was an unnatural act , that everything in boxing is backwards .\\nNice fight .\\nWhat do you want ?\\nI wonder .\\nYou telilng me that this is your fighter ?\\nOk , ( .. ) and then i throw a punch and it keeps dropping .\\nThe point is to get good , you can' t get good if you keep knockin em out in the first round , how am i gonna get you fights ?\\nSo it' s your birthday huh , how olds that make ya ?\\nhow to fight backin up so the other guy doesn' t wanna come after ya , then you gotta show em all over again , over and over and over til they think they were born that way .\\nJust do it like that , keep practicing .\""
            ]
          },
          "execution_count": 120,
          "metadata": {},
          "output_type": "execute_result"
        }
      ],
      "source": [
        "context"
      ]
    },
    {
      "cell_type": "code",
      "execution_count": null,
      "metadata": {
        "id": "X3Cu21DpxLO4"
      },
      "outputs": [],
      "source": [
        "user_prompt=f\"\"\"\n",
        "Based on the context:\n",
        "{context}\n",
        "Answer the below query:\n",
        "{query}\n",
        "\"\"\""
      ]
    },
    {
      "cell_type": "code",
      "execution_count": null,
      "metadata": {
        "colab": {
          "base_uri": "https://localhost:8080/",
          "height": 87
        },
        "id": "dHa90psIxLRb",
        "outputId": "c2b8451a-93b8-4a5d-8822-86e0e4454994"
      },
      "outputs": [
        {
          "data": {
            "application/vnd.google.colaboratory.intrinsic+json": {
              "type": "string"
            },
            "text/plain": [
              "\"\\nBased on the context:\\nWants to know what your reading .\\nYou watch it ?\\nLittle girl tends to be coming along .\\nWhat' s this ?\\nYou already taught me everything I need to know .\\nIf i' m too old for this then i got nothing . that enough truth to see to you ?\\nSally' s trying to set a fight with julia ?\\nIt' s beautiful man , it' s like poetry .\\nHeard about Willie , it' s cold , it' s dead cold , plus it wouldn' t be so bad if you weren' t so damn old .\\nDangerous showed up a couple years back , it comes to everything to LA with errilville , ... new boyfriend , apparently errilville got lost , and ended up back in Texas .\\nWhat is it ?\\nNothing .\\nYou wont never regret it .\\nNo take the bag , haven' t seen it in 20yrs anyway .\\nYeah I watched it .\\nGracey broke down crying when she saw it .\\nI' m trying to read here .\\nWell i' d be tempted but , i couldn' t say for sure , might find it' s way to the track .\\nSugar ray would do that . Girls got sugar .\\nWell maggie fitzgerald , what' s up ?\\nWhat ya reading ?\\nIt' s like poetry .\\nMr dunn ?\\nDanger looked for him , bout a week before he introduced himself .\\nSon of god , dont play stupid .\\nIt' s a tape on that girl in england your gonna fight .\\nWhat' s danger doing out there ?\\nMaggie left no doubt about it .\\nWell I remember walking half way and thinking i was gonna be lynched .\\nCheeseburger ?\\nShe grew up knowing one thing , she was trash .\\nBut danger wanted to give it his best answer .\\nThought you might change your mind .\\nHow could you afford HBO ?\\nWhen the hell they gonna get to her ?\\nDidn' t seem to matter to her that something like that could kill a person and the crowds loved her .\\nI' m , i' m thinking how i' m gonna hit it hard for ya mr ( name ) .\\n20 seconds that' s all you got , now get going .\\nYou' ve been reading that shit .\\nDanger , your going back to training .\\nI dont wanna hear about it either way , that' s just the way its gonna be , its the only way i' il do it .\\nHere you go , here YOU go .\\nSo You wanna give this a try see if it' s a fit ?\\nDid you happen to see it ?\\nHey get the hell down , know how old i am ?\\nWhat about the Holy ghost ?\\nIf your gonna go for the title we got some moves ...\\nGot it right here .\\nWant my advice ?\\nOffered us a title shot .\\nIt' s all i ask .\\nSee there you go .\\nWhat you learn tonight ?\\nAlright , ok .\\n( studying language outloud ) what the hell kind of language is that ?\\nWhat ?\\nWhat ?\\nWhat ?\\nWhat ?\\nWhat ?\\nDid you write your daughter ?\\nDid you write your daughter ?\\nHOw old are you ?\\nI' ve had 3 since then , just uh , just enjoy it will ya ?\\nWhat' s he looking at ?\\nLet him hit you . cuts too high , too close to the bone ,\\nI can' t , i' ve gotta call it .\\nI' m not gonna live forever .\\nShe keeps hitting it like that she gonna break her wrists .\\nYou go on and eat your cupcake .\\nOk , go give it to her .\\nWhy won' t ya talk a little yates to her , show her what a treat that is .\\nThat' s ( name ) washington' s girl , hell of a fighter , 11- 0 .\\nOh i can' t frankie , middle' s got a piano lesson , i told Grace i' d drive .\\nYou can' t just tell em to forget everything you know , you gotta make them forget it in their bones .\\nOk , as soon as i get the money .\\nDon' t hardly know him .\\nAnnie too , other than that , you know what i want , there' s no use repeating myself .\\nHe did good .\\nFighter i' m calling it .\\nI dont feel that old .\\nYeah i got HBO .\\nHow' s it going scrap ?\\nHe' s fine , he' s fine .\\nWhen she does you step to the side , come over wit a goodnight hook .\\n6 Months .\\nI need to look at him .\\nWhat is it you want ?\\nIt' s a title you can' t take away , she' s got nothing to lose , you got nothing to win .\\nSaving it .\\nTrouble in my family comes by the pound .\\nYou gonna argue with me ?\\nJust dont lose it .\\nThen you got 10 seconds .\\nLet it drop .\\nWell I can' t just lend it to anybody you know .\\nIt wasn' t .\\nWillie did good .\\nNO sorry .\\nBig willie ,\\nSeconds up , lets go .\\nI can' t , i can' t .\\nYour gonna find a trainer either in this gym or somewhere else that' s gonna wanna train a girl , it' s the latest freak show out there , but the only trouble is your gonna be they' re wasting your time because your too old .\\nThere' s some things people just dont wanna hear .\\nSet in the cedars and oak trees somewhere between nowhere and goodbye .\\nThe next was to fight , the british champ , the jamaican girl billy just beat .\\nLonnie might let Sally lightweight fight julia ( name ) for the title .\\nCourse if maggie loses , wouldn' t mean a thing to Sally , might even help him on his card gets another win ,\\nFrankie , most people figure out by kindergarden it' s about faith .\\nDanger , i want you thinking bout that punch i' il brb .\\nOh , something wrong with Grace' s car ?\\n( language study )\\nHow much she weigh ?\\nJust go hit the bag .\\nWell it aint no big secret ( ... ) for .\\nFine , you did fine .\\nNo , well i got a daughter , katie .\\nWhat kind of training is that ?\\nI thought that was the point .\\nYou bought me a cheeseburger ?\\nWouldn' t have been my choice for a first fight but Sally' s a good manager , must think she can take her .\\nGirlie , tough aint enough .\\nYou gonna leave me again ?\\nMy name is Dangerous Dillard fighting flipo bam bam ... out of Broward county Texas .\\nAlright , now you dont want to hit him when he' s coming toward ya cause what he' s gonna do is just push you back and is gonna smuggle your punches take you by ( respect ) , so you watch him real carefully , keep rotating , that keeps your head moving and keep one shoulder back so you' re always ready to fire power shot , alright now go ahead now, good good , keep rotating, keep moving , that' s it , good good , keep that chin tucked in , come around keep moving , keep moving , good ... yeah ?\\nYou gotta move your feet , that' s one of the best things i' m gonna be able to teach ya . so here' s what you do ,\\nYou gave me away how is that protecting me ?\\nYa well i remember , and excuse me ,\\nIf i was thinking straight i' d go back home , find a used trailer , buy a deep fryer and some oreos , problem is this the only thing i ever felt good doing .\\nIt' s a title match right ?\\nAbsolutely .\\nOh same ol one god tree god thing .\\nI' m gonna teach ya how to fight then we get you a manager and i' m off down the road .\\nWell i couldn' t eat it , and i ordered it .\\nThat' s family .\\nDid you watch the fight ?\\nSo what do you think , Im ready for a fight ?\\nThen I might as well just keep calling you it .\\nHey , come here .\\nNot interested .\\nlook like your gonna hit something .\\nHe moved her up in class , that could have been a mistake .\\nThink i might be ready for a fight boss ?\\nIt' s my fighter .\\nYeah it' s okay .\\nI did pretty good , thought you might be interested in training me .\\nThis bag ?\\nGo ahead and blow em .\\nIn 23years he' s never said a thing about it .\\nIt' s galac .\\nYou wouldn' t start traing to be a ballerina at 31 now would ya ?\\nIt' s her birthday .\\nWhat she saying ?\\nPaying an extra 1000 dollars for your own car ( ... ) is a favor .\\nShe hates that car , wants the old one back but dealer wont do it , says he already got a buyer .\\nNow What i want you to do is not about hitting it hard , is how good you hit it . so watch me , and you can count with me if you want , just count on a one count .\\nBut he' s hurting me , making my heart watching him punch the air like it' s gonna punch back .\\nI' m sorry to come on your house like this ,\\nSomebody tell me what' s going on .\\nThink i' m ready for a fight boss ?\\nWhat the hells that ?\\nDidn' t take maggie long to hit a strive .\\nMaggie always did like taking em out in the first round .\\nWon' t hardly need a dozen boss , you' il do fine .\\nInhale , inhale , breath in .\\nNo reason .\\nMight still be a good fight .\\nCanvas has titties .\\nYou show em how to stand , keep their legs under their shoulders .\\n31 .\\nIt' s for my dog .\\nStop .\\nWanna talk ?\\nLook Willie , you' ve one shot at the title , you lose , it may not come around again 2 or 3 more fights and you' il be ready .\\nDanger you through a punch you get the hell out of this gym .\\nI appreciate any help i can get .\\nWell i' m confused .\\nSally here is a real good manager , has a couple of golden glove boys ,\\nYeah manager ran off , left you and me to hitch home , don' t you remember nothing ?\\nNice night aint it ?\\nHere .\\nLook just listen to me ...\\nNO not quite ,\\nWell there you go .\\nWell i got the gym , dont need to be training fighters at my age .\\nThat' s what you got to say ?\\nDont ' get carried away now .\\nI Got it ( didn' t ) embarassing myself .\\nAnd dont come crying to me if you get hurt . Alrighty .\\nLooks like a bottle of water .\\nThat' s a lot of money boss .\\nMickie mac' s a business man , he can' t teach ya nothing .\\nBy doing this .\\nWell neither do I but you don' t see me fighting 21 yr olds do ya , it takes about 4 years to train a fighter .\\nWhat did HOgan want ?\\nSaw your last flash shot Will , spend so much time face down , I thought the canvas had titties .\\nWhy not boot , it' s perfect boot , cause you know why , cause she are you , you could fight to him and then you could kiss to him , and then you fight to him one more time .\\nI' il just borrow it till i buy my own .\\nAfter a 12 straight knock out , frankie got a couple of real good offers , the first was to fight billy the blue bare osterman for the wba welter weight title .\\nOnly way this guy said he' d take me is if he took me to the title .\\nIt' s the magic of risking everything for a dream that nobody see' s but you .\\n( ... ) wait long enough , you got nothing .\\nAnd I challenge the motor city cobra ,\\nWillie the title is just 2 fights away .\\nWas last night .\\nIt aint about connections frankie , it' s about you not believing in him .\\n( name ) has a lot of good fighters , gots julia ( name ) lightweight champ .\\nThanks .\\nYour doing a hell of a job of it sally , is this the way you advise your lightweight ?\\nHOld it , hold it , i' il show you a few things , and then we' il get you a trainer .\\nKnow better than do that boss . well ... good .\\nIt aint fitting real well sally .\\nFather that was a great sermon . Every week .\\nLie down now , rest and we' il talk about this when you regain your senses .\\nPeople love violence , they' il slow down at a car wreck to check for bodies , same people claim to love boxing , they got no idea what it is .\\nGive his momma back her tights .\\nHey Sally , come here for a minute will ya ?\\nShe' d come 1800 miles but the ( adultra ) was still just over the hill .\\nJust pull the door closed when you leave .\\nNo sir .\\nNo sir .\\nWell dO your best lord , protect katie ...\\nThat ( ... ) ?\\nDoing good nicky , doing good . what' il ya have ?\\nAlready been working it for 3years .\\nMy god .\\nWhats the rule ?\\nI' ve got the breathing thing down .\\nThere in a feet .\\nI remember you leaving me with my dick in my hand behind that gas station .\\nYa , Here , keep the god damn thing .\\nAlways protect myself .\\nAlways protect myself .\\nI need somebody in the action that can make things happen , and i got to make a change before the fight .\\nI' il be damned flipper .\\nYeah well it might be a stretch but , you got to get yourself a place of your own .\\nWhy you telling me that ?\\nWhat was i supposed to do , just put him in over his head , not protect him ?\\nYeah , almost like someones been helping her .\\nWell i hate to say it but it shows .\\nHow long have i been telling you to save your money ?\\nWell I found him , I stuck with him for 8 years how' s that for not believing in him .\\nNobody tells you what that number is .\\nThat' s a girl man ?\\nHey Willie .\\nJust one of those questions you ask .\\nI mean for a girl .\\nWE' re not exactly close .\\nNo .\\nNo .\\nOh you dont have to thank me .\\nThere' s dozen of trainers who train girls , you wont have any trouble finding one .\\nBleach smells like bleach .\\nWell Looking for a good one .\\nOk one .\\nHey scruff ...\\nIts Yates , keep your head back .\\nEverybody gots a particular number of fights in em ,\\nYou came in here to tell me that Big willie is not talking to Mickie Mac ?\\nStop stop stop , god damnit stop .\\nIt smells better frankie .\\nThomas Hitman Earns to fight me for the welter weight championship of the whole world .\\nHow many times do i got to tell you that bleach is bleach .\\nSherrile , leave him alone .\\nSo i get to the title fight , and this guy takes you there .\\nWillie tell you why ?\\nYou could have gotten him a title fight 2 years ago , now he knew that i' m amazed he stayed around this long .\\nThe only reason you can romance at me is to wind me up , it' s not gonna happen this morning .\\nIt' s the rule , always protect yourself ,\\nJust say one please .\\nBout time .\\nYou know you save enough of it you get yourself a new house , cash no mortgage .\\nYou get yourself , bend your knees , get in an athletic position ,\\nIs it sorta like snap , crackle and pop all rolled up in one big box ?\\nYou uh , you forgot the rule , now what is the rule ?\\nLook I was late , Sally was just subbin for me .\\nThanks man .\\nYeah , not very big , used to be real athletic , dont know if she kept it up .\\nEvery week .\\nThe' re all kinds of combinations you come up against down in the different layers of meat and frankie knew how to work every one .\\nDrink your water .\\nMaybe you should , people seen me fight say i' m pretty tough .\\nWwhat do we do ? tell me what to do .\\nOk , if i' m gonna take you on ...\\nBilly was a former prostitue out of east Berlin , had a reputation for being the dirtiest fighter in the ranks .\\nI owe you money ?\\nWill do miss graff .\\nThank you .\\nThank you .\\nThank you .\\nIt' s just frankie and me .\\nIf you think that is more important .\\nLook you seem like a nice girl , can i give you some advice ?\\nYou want it ?\\nFrankie found out .\\nSo you been working on yourself , learning to open up that' s good work .\\nHold the bag stupid .\\nDont ' you say that , dont you say that if it aint true .\\nOk .\\n31 , until my next birthday .\\nI' il give you a ride .\\nSure .\\nThought i told you i didn' t want danger working out here anymore .\\nMmmhmm didn' t do you a lot good tho did it ?\\nAnytime .\\nSOmebody' s gotta be honest with ya .\\nYou spending all this time with me I didn' t know if you had any ?\\nWhat machine ?\\nProtect myself at all times .\\nWorking the bag boss .\\nI' il just borrow it til i can buy my own .\\nJust push will you ?\\nGood , cause i think your ready for a fight .\\nOk You did two things wrong .\\nShow em how to keep their balance and take it away from the other guy .\\nI know boss .\\nMaggie didn' t knock her out til the end of the first round , after that no manager wanted to put his fighter in with maggie .\\nNope .\\nAll fighters are pig headed someway or another , some part of them always thinks they know better than you about something . can you uh spare a few minutes for the immaculate conception ?\\nMr micky mack , i' m maggie fitzgerald , i hear your a real good manager doing good things for big Willie , but i' d thought you should know i aint never leaving mr dunn , so you dont need to make anymore excuses to bump into me , sorry for interrupting your dinner .\\nIs To protect yourself at all times .\\nIt' s a mistake .\\nDont really know sir .\\nLooks like She' s got something .\\nSome People say the most important thing a fighter can have is heart .\\nOk huh ?\\nHate to disagree with you .\\nThink your right .\\nThose some nice tights , danger .\\nFrankly i' d learn to protect your face a lil better wouldn' t have to turn down this money .\\nBobby wanted to move to florida and frankie wanted some security .\\nIt' s only thursday .\\nI' ve seen what you can do , fix it .\\nI' d appreciate that .\\nI' d appreciate that .\\nOnly way he' d do it , i' m sorry Frankie , i' m no longer waiting on a title , I wish you could have been with me .\\nEver since i fought Louis typhoon johnson at the stadium club in tupulo mississippi .\\nlooking for a girl sally ?\\nI dont care , get your teeth knocked out , i dont care ,\\nYeah well i got a ride , the guy took off before i hardly closed the door , had to walk back 2 miles .\\nHey what do i know , i just come cause i enjoy the fights .\\nHey you a bad man huh ? hey come on get in the ring , go a round with me .\\nHOw you doing ?\\nGo around wasting it on things that don' t matter and what you got ?\\nAll right ,\\nYou got any family boss ?\\nI dont train girls .\\nI dont train girls .\\nHe turned her down without even telling her .\\nYes he is .\\nDont ' call me boss now , i' m not your boss , and dont you be calling me that .\\nYour wasting your time , I told you I dont train girls .\\nOne .\\nThe body knows what fighters dont , how to protect itself .\\nYa .\\nNow what is the rule ?\\nJust working on my foot work mr ( name ) .\\nGood good .\\nIf i stop calling you boss will you train me ?\\nWhat the hell are you doing ?\\nHey , you know , I gots nothing against niggers .\\nGood girl .\\nHe turned that down too .\\nWillie you ready to work ?\\nMargret Fitgerald ?\\nGod this is a mistake already . mmm mmm i' m listening boss .\\nI' m gonna need that speed bag back .\\nYeah this is my fighter .\\nFine , you take her , she can' t fight worth a shit anyway .\\nYou were a hell of a fighter , a lot better than Willie , he get you a title fight or .. did he just bust you out banging your head against other people' s fist until you lost your eye ?\\nIs something wrong ?\\nNot a word , neither one of them .\\nHow much' s she paid ?\\nIf you say frankie .\\nCan' t think it was the bag .\\n1 is you asked a question and 2 is you asked another question .\\nDanger , i' m wearing these mits for a reason .\\nWell that' s nice to hear .\\nI know your momma ?\\nGo on home now .\\nReally ?\\nWhat' s confusing you this week ?\\nHello ?\\nIf yours behind the counter , wish i could say wheres it at\\nOww\\nHeya mr buda ..\\nHey come here , come here , your dropping your left hand , quit dropping your left hand .\\nEverytime you get into pressure your holding your breath , now stop doing that .\\nI hear ya boss .\\nIf there' s magic in boxing , its the magic of fighting battles beyond endurance , beyond cracked rips , ruptured kidneys and detached raetna' s .\\nFrankie liked to say that boxing was an unnatural act , that everything in boxing is backwards .\\nNice fight .\\nWhat do you want ?\\nI wonder .\\nYou telilng me that this is your fighter ?\\nOk , ( .. ) and then i throw a punch and it keeps dropping .\\nThe point is to get good , you can' t get good if you keep knockin em out in the first round , how am i gonna get you fights ?\\nSo it' s your birthday huh , how olds that make ya ?\\nhow to fight backin up so the other guy doesn' t wanna come after ya , then you gotta show em all over again , over and over and over til they think they were born that way .\\nJust do it like that , keep practicing .\\nAnswer the below query:\\nWhat should I know about this movie before recommending it to my 10 years old kid\\n\""
            ]
          },
          "execution_count": 122,
          "metadata": {},
          "output_type": "execute_result"
        }
      ],
      "source": [
        "user_prompt"
      ]
    },
    {
      "cell_type": "code",
      "execution_count": null,
      "metadata": {
        "id": "x5LBtXYNedJT"
      },
      "outputs": [],
      "source": [
        "system_prompt = \"Before deciding whether a movie is appropriate for young audiences, such as children around 10 years old, or for family viewing, I need to assess its content meticulously. This evaluation requires a thorough analysis of the provided subtitles to identify specific content aspects. Please assist by addressing the following points based on the subtitles: 1. Violence: Identify instances of violence within the movie. Describe the context and nature of these scenes, and provide excerpts from the subtitles that illustrate violent content. 2. Scariness: Point out scenes that could be considered scary or intense for younger viewers. Provide relevant lines from the subtitles to help gauge the level of scariness. 3. Positive Role Models: Analyze characters or scenarios depicted in the subtitles that could serve as positive examples for young viewers. Highlight how these elements may offer inspirational or educational value. 4. Overall Messages: Summarize the core messages or themes conveyed through the movie, with an emphasis on positive and constructive themes such as friendship, courage, and ethical decision-making. Additionally, if the movie contains any language, scenes, or themes that might be deemed inappropriate or questionable by parents, please note these with specific examples from the subtitles provide atleast 3 examples of subtitles per genre. The goal is to compile a comprehensive overview to assist in determining the suitability of the movie for a young audience or family viewing.\"\n"
      ]
    },
    {
      "cell_type": "code",
      "execution_count": null,
      "metadata": {
        "colab": {
          "base_uri": "https://localhost:8080/",
          "height": 87
        },
        "id": "jW_9CYr0ABy4",
        "outputId": "9ae5754f-a9a7-4a68-83e5-988702797ec8"
      },
      "outputs": [
        {
          "data": {
            "application/vnd.google.colaboratory.intrinsic+json": {
              "type": "string"
            },
            "text/plain": [
              "'Before deciding whether a movie is appropriate for young audiences, such as children around 10 years old, or for family viewing, I need to assess its content meticulously. This evaluation requires a thorough analysis of the provided subtitles to identify specific content aspects. Please assist by addressing the following points based on the subtitles: 1. Violence: Identify instances of violence within the movie. Describe the context and nature of these scenes, and provide excerpts from the subtitles that illustrate violent content. 2. Scariness: Point out scenes that could be considered scary or intense for younger viewers. Provide relevant lines from the subtitles to help gauge the level of scariness. 3. Positive Role Models: Analyze characters or scenarios depicted in the subtitles that could serve as positive examples for young viewers. Highlight how these elements may offer inspirational or educational value. 4. Overall Messages: Summarize the core messages or themes conveyed through the movie, with an emphasis on positive and constructive themes such as friendship, courage, and ethical decision-making. Additionally, if the movie contains any language, scenes, or themes that might be deemed inappropriate or questionable by parents, please note these with specific examples from the subtitles provide atleast 3 examples of subtitles per genre. The goal is to compile a comprehensive overview to assist in determining the suitability of the movie for a young audience or family viewing.'"
            ]
          },
          "execution_count": 124,
          "metadata": {},
          "output_type": "execute_result"
        }
      ],
      "source": [
        "system_prompt"
      ]
    },
    {
      "cell_type": "markdown",
      "metadata": {
        "id": "e-zRoWEzdUDB"
      },
      "source": [
        "# **Generative Model**"
      ]
    },
    {
      "cell_type": "code",
      "execution_count": null,
      "metadata": {
        "id": "Ts7NPMcT8--j"
      },
      "outputs": [],
      "source": [
        "api_key = \"put your api key\"\n"
      ]
    },
    {
      "cell_type": "code",
      "execution_count": null,
      "metadata": {
        "id": "kJIHW-hD8_BI"
      },
      "outputs": [],
      "source": [
        "headers = {\n",
        "    \"Content-Type\": \"application/json\",\n",
        "    \"Authorization\": f\"Bearer {api_key}\"\n",
        "}\n",
        "\n",
        "# Initial context setup for detailed responses\n",
        "messages = [\n",
        "    {\"role\": \"system\", \"content\":system_prompt},\n",
        "    {\"role\": \"user\", \"content\": user_prompt}\n",
        "]\n",
        "\n",
        "# Example of a follow-up for more details\n",
        "follow_up = {\"role\": \"user\", \"content\": \"Could you go into more detail about the sentences choosen\"}\n",
        "\n",
        "# Including the follow-up in the messages\n",
        "messages.append(follow_up)\n",
        "\n",
        "\n",
        "data = {\n",
        "    \"model\": \"gpt-3.5-turbo\",\n",
        "    \"messages\": messages,\n",
        "}\n",
        "\n",
        "\n",
        "response = requests.post(\"https://api.openai.com/v1/chat/completions\", headers=headers, json=data)\n",
        "response_data = response.json()\n"
      ]
    },
    {
      "cell_type": "code",
      "execution_count": null,
      "metadata": {
        "colab": {
          "base_uri": "https://localhost:8080/"
        },
        "id": "MgucRgm8TsRP",
        "outputId": "62dc5ed6-ff84-483c-8f98-f536c280668f"
      },
      "outputs": [
        {
          "name": "stdout",
          "output_type": "stream",
          "text": [
            "Certainly! Let's delve into the subtitles provided to identify instances that may impact younger audiences:\n",
            "1. **Violence:**\n",
            "   - \"*You gotta move your feet, that's one of the best things I'm gonna be able to teach ya.*\"\n",
            "   - \"*Then I might as well just keep calling you it.*\"\n",
            "   - \"*You through a punch you get the hell out of this gym.*\"\n",
            "These excerpts contain references to physical actions that suggest potential violence or aggression, which may not be suitable for young viewers, especially if portrayed in a realistic or intense manner.\n",
            "2. **Scariness:**\n",
            "   - \"*She keeps hitting it like that she gonna break her wrists.*\"\n",
            "   - \"*Didn't take Maggie long to hit a strive.*\"\n",
            "   - \"*He's hurting me, making my heart watching him punch the air like it's gonna punch back.*\"\n",
            "These lines could be perceived as intense or potentially scary, especially in the context of physical harm or injury, which might be distressing for younger viewers.\n",
            "3. **Positive Role Models:**\n",
            "   - \"*People say the most important thing a fighter can have is heart.*\"\n",
            "   - \"*The body knows what fighters don't, how to protect itself.*\"\n",
            "   - \"*And don't come crying to me if you get hurt. Alrighty.*\"\n",
            "Despite the challenging context of a boxing environment, certain subtitles highlight themes of resilience, self-protection, and determination, which could serve as positive examples for young audiences.\n",
            "4. **Overall Messages:**\n",
            "   The core messages conveyed through the movie subtitles seem to revolve around perseverance, dedication to one's passion, and the importance of training and self-improvement. While there are elements of conflict and adversity present, the underlying themes of hard work, loyalty, and self-belief could inspire viewers, particularly children, to pursue their goals with determination.\n",
            "Considering the references to violence, intensity, and physical conflict in the provided subtitles, it may be advisable to preview the movie content further to ensure its suitability for a young audience, taking into consideration the potential impact of such themes on a 10-year-old child.\n"
          ]
        }
      ],
      "source": [
        "if response_data[\"choices\"]:\n",
        "    content = response_data[\"choices\"][0][\"message\"][\"content\"]\n",
        "    # Splitting the content by sections for better readability\n",
        "    sections = content.split(\"\\n\\n\")\n",
        "    for section in sections:\n",
        "        print(section.strip())\n",
        "\n",
        "else:\n",
        "    print(\"No content available.\")"
      ]
    },
    {
      "cell_type": "code",
      "execution_count": null,
      "metadata": {
        "colab": {
          "base_uri": "https://localhost:8080/"
        },
        "id": "yUw8z9KBgWMy",
        "outputId": "3cf7e058-10ee-485e-8616-12f2a412802e"
      },
      "outputs": [
        {
          "data": {
            "text/plain": [
              "[{'role': 'system',\n",
              "  'content': 'Before deciding whether a movie is appropriate for young audiences, such as children around 10 years old, or for family viewing, I need to assess its content meticulously. This evaluation requires a thorough analysis of the provided subtitles to identify specific content aspects. Please assist by addressing the following points based on the subtitles: 1. Violence: Identify instances of violence within the movie. Describe the context and nature of these scenes, and provide excerpts from the subtitles that illustrate violent content. 2. Scariness: Point out scenes that could be considered scary or intense for younger viewers. Provide relevant lines from the subtitles to help gauge the level of scariness. 3. Positive Role Models: Analyze characters or scenarios depicted in the subtitles that could serve as positive examples for young viewers. Highlight how these elements may offer inspirational or educational value. 4. Overall Messages: Summarize the core messages or themes conveyed through the movie, with an emphasis on positive and constructive themes such as friendship, courage, and ethical decision-making. Additionally, if the movie contains any language, scenes, or themes that might be deemed inappropriate or questionable by parents, please note these with specific examples from the subtitles provide atleast 3 examples of subtitles per genre. The goal is to compile a comprehensive overview to assist in determining the suitability of the movie for a young audience or family viewing.'},\n",
              " {'role': 'user',\n",
              "  'content': \"\\nBased on the context:\\nWants to know what your reading .\\nYou watch it ?\\nLittle girl tends to be coming along .\\nWhat' s this ?\\nYou already taught me everything I need to know .\\nIf i' m too old for this then i got nothing . that enough truth to see to you ?\\nSally' s trying to set a fight with julia ?\\nIt' s beautiful man , it' s like poetry .\\nHeard about Willie , it' s cold , it' s dead cold , plus it wouldn' t be so bad if you weren' t so damn old .\\nDangerous showed up a couple years back , it comes to everything to LA with errilville , ... new boyfriend , apparently errilville got lost , and ended up back in Texas .\\nWhat is it ?\\nNothing .\\nYou wont never regret it .\\nNo take the bag , haven' t seen it in 20yrs anyway .\\nYeah I watched it .\\nGracey broke down crying when she saw it .\\nI' m trying to read here .\\nWell i' d be tempted but , i couldn' t say for sure , might find it' s way to the track .\\nSugar ray would do that . Girls got sugar .\\nWell maggie fitzgerald , what' s up ?\\nWhat ya reading ?\\nIt' s like poetry .\\nMr dunn ?\\nDanger looked for him , bout a week before he introduced himself .\\nSon of god , dont play stupid .\\nIt' s a tape on that girl in england your gonna fight .\\nWhat' s danger doing out there ?\\nMaggie left no doubt about it .\\nWell I remember walking half way and thinking i was gonna be lynched .\\nCheeseburger ?\\nShe grew up knowing one thing , she was trash .\\nBut danger wanted to give it his best answer .\\nThought you might change your mind .\\nHow could you afford HBO ?\\nWhen the hell they gonna get to her ?\\nDidn' t seem to matter to her that something like that could kill a person and the crowds loved her .\\nI' m , i' m thinking how i' m gonna hit it hard for ya mr ( name ) .\\n20 seconds that' s all you got , now get going .\\nYou' ve been reading that shit .\\nDanger , your going back to training .\\nI dont wanna hear about it either way , that' s just the way its gonna be , its the only way i' il do it .\\nHere you go , here YOU go .\\nSo You wanna give this a try see if it' s a fit ?\\nDid you happen to see it ?\\nHey get the hell down , know how old i am ?\\nWhat about the Holy ghost ?\\nIf your gonna go for the title we got some moves ...\\nGot it right here .\\nWant my advice ?\\nOffered us a title shot .\\nIt' s all i ask .\\nSee there you go .\\nWhat you learn tonight ?\\nAlright , ok .\\n( studying language outloud ) what the hell kind of language is that ?\\nWhat ?\\nWhat ?\\nWhat ?\\nWhat ?\\nWhat ?\\nDid you write your daughter ?\\nDid you write your daughter ?\\nHOw old are you ?\\nI' ve had 3 since then , just uh , just enjoy it will ya ?\\nWhat' s he looking at ?\\nLet him hit you . cuts too high , too close to the bone ,\\nI can' t , i' ve gotta call it .\\nI' m not gonna live forever .\\nShe keeps hitting it like that she gonna break her wrists .\\nYou go on and eat your cupcake .\\nOk , go give it to her .\\nWhy won' t ya talk a little yates to her , show her what a treat that is .\\nThat' s ( name ) washington' s girl , hell of a fighter , 11- 0 .\\nOh i can' t frankie , middle' s got a piano lesson , i told Grace i' d drive .\\nYou can' t just tell em to forget everything you know , you gotta make them forget it in their bones .\\nOk , as soon as i get the money .\\nDon' t hardly know him .\\nAnnie too , other than that , you know what i want , there' s no use repeating myself .\\nHe did good .\\nFighter i' m calling it .\\nI dont feel that old .\\nYeah i got HBO .\\nHow' s it going scrap ?\\nHe' s fine , he' s fine .\\nWhen she does you step to the side , come over wit a goodnight hook .\\n6 Months .\\nI need to look at him .\\nWhat is it you want ?\\nIt' s a title you can' t take away , she' s got nothing to lose , you got nothing to win .\\nSaving it .\\nTrouble in my family comes by the pound .\\nYou gonna argue with me ?\\nJust dont lose it .\\nThen you got 10 seconds .\\nLet it drop .\\nWell I can' t just lend it to anybody you know .\\nIt wasn' t .\\nWillie did good .\\nNO sorry .\\nBig willie ,\\nSeconds up , lets go .\\nI can' t , i can' t .\\nYour gonna find a trainer either in this gym or somewhere else that' s gonna wanna train a girl , it' s the latest freak show out there , but the only trouble is your gonna be they' re wasting your time because your too old .\\nThere' s some things people just dont wanna hear .\\nSet in the cedars and oak trees somewhere between nowhere and goodbye .\\nThe next was to fight , the british champ , the jamaican girl billy just beat .\\nLonnie might let Sally lightweight fight julia ( name ) for the title .\\nCourse if maggie loses , wouldn' t mean a thing to Sally , might even help him on his card gets another win ,\\nFrankie , most people figure out by kindergarden it' s about faith .\\nDanger , i want you thinking bout that punch i' il brb .\\nOh , something wrong with Grace' s car ?\\n( language study )\\nHow much she weigh ?\\nJust go hit the bag .\\nWell it aint no big secret ( ... ) for .\\nFine , you did fine .\\nNo , well i got a daughter , katie .\\nWhat kind of training is that ?\\nI thought that was the point .\\nYou bought me a cheeseburger ?\\nWouldn' t have been my choice for a first fight but Sally' s a good manager , must think she can take her .\\nGirlie , tough aint enough .\\nYou gonna leave me again ?\\nMy name is Dangerous Dillard fighting flipo bam bam ... out of Broward county Texas .\\nAlright , now you dont want to hit him when he' s coming toward ya cause what he' s gonna do is just push you back and is gonna smuggle your punches take you by ( respect ) , so you watch him real carefully , keep rotating , that keeps your head moving and keep one shoulder back so you' re always ready to fire power shot , alright now go ahead now, good good , keep rotating, keep moving , that' s it , good good , keep that chin tucked in , come around keep moving , keep moving , good ... yeah ?\\nYou gotta move your feet , that' s one of the best things i' m gonna be able to teach ya . so here' s what you do ,\\nYou gave me away how is that protecting me ?\\nYa well i remember , and excuse me ,\\nIf i was thinking straight i' d go back home , find a used trailer , buy a deep fryer and some oreos , problem is this the only thing i ever felt good doing .\\nIt' s a title match right ?\\nAbsolutely .\\nOh same ol one god tree god thing .\\nI' m gonna teach ya how to fight then we get you a manager and i' m off down the road .\\nWell i couldn' t eat it , and i ordered it .\\nThat' s family .\\nDid you watch the fight ?\\nSo what do you think , Im ready for a fight ?\\nThen I might as well just keep calling you it .\\nHey , come here .\\nNot interested .\\nlook like your gonna hit something .\\nHe moved her up in class , that could have been a mistake .\\nThink i might be ready for a fight boss ?\\nIt' s my fighter .\\nYeah it' s okay .\\nI did pretty good , thought you might be interested in training me .\\nThis bag ?\\nGo ahead and blow em .\\nIn 23years he' s never said a thing about it .\\nIt' s galac .\\nYou wouldn' t start traing to be a ballerina at 31 now would ya ?\\nIt' s her birthday .\\nWhat she saying ?\\nPaying an extra 1000 dollars for your own car ( ... ) is a favor .\\nShe hates that car , wants the old one back but dealer wont do it , says he already got a buyer .\\nNow What i want you to do is not about hitting it hard , is how good you hit it . so watch me , and you can count with me if you want , just count on a one count .\\nBut he' s hurting me , making my heart watching him punch the air like it' s gonna punch back .\\nI' m sorry to come on your house like this ,\\nSomebody tell me what' s going on .\\nThink i' m ready for a fight boss ?\\nWhat the hells that ?\\nDidn' t take maggie long to hit a strive .\\nMaggie always did like taking em out in the first round .\\nWon' t hardly need a dozen boss , you' il do fine .\\nInhale , inhale , breath in .\\nNo reason .\\nMight still be a good fight .\\nCanvas has titties .\\nYou show em how to stand , keep their legs under their shoulders .\\n31 .\\nIt' s for my dog .\\nStop .\\nWanna talk ?\\nLook Willie , you' ve one shot at the title , you lose , it may not come around again 2 or 3 more fights and you' il be ready .\\nDanger you through a punch you get the hell out of this gym .\\nI appreciate any help i can get .\\nWell i' m confused .\\nSally here is a real good manager , has a couple of golden glove boys ,\\nYeah manager ran off , left you and me to hitch home , don' t you remember nothing ?\\nNice night aint it ?\\nHere .\\nLook just listen to me ...\\nNO not quite ,\\nWell there you go .\\nWell i got the gym , dont need to be training fighters at my age .\\nThat' s what you got to say ?\\nDont ' get carried away now .\\nI Got it ( didn' t ) embarassing myself .\\nAnd dont come crying to me if you get hurt . Alrighty .\\nLooks like a bottle of water .\\nThat' s a lot of money boss .\\nMickie mac' s a business man , he can' t teach ya nothing .\\nBy doing this .\\nWell neither do I but you don' t see me fighting 21 yr olds do ya , it takes about 4 years to train a fighter .\\nWhat did HOgan want ?\\nSaw your last flash shot Will , spend so much time face down , I thought the canvas had titties .\\nWhy not boot , it' s perfect boot , cause you know why , cause she are you , you could fight to him and then you could kiss to him , and then you fight to him one more time .\\nI' il just borrow it till i buy my own .\\nAfter a 12 straight knock out , frankie got a couple of real good offers , the first was to fight billy the blue bare osterman for the wba welter weight title .\\nOnly way this guy said he' d take me is if he took me to the title .\\nIt' s the magic of risking everything for a dream that nobody see' s but you .\\n( ... ) wait long enough , you got nothing .\\nAnd I challenge the motor city cobra ,\\nWillie the title is just 2 fights away .\\nWas last night .\\nIt aint about connections frankie , it' s about you not believing in him .\\n( name ) has a lot of good fighters , gots julia ( name ) lightweight champ .\\nThanks .\\nYour doing a hell of a job of it sally , is this the way you advise your lightweight ?\\nHOld it , hold it , i' il show you a few things , and then we' il get you a trainer .\\nKnow better than do that boss . well ... good .\\nIt aint fitting real well sally .\\nFather that was a great sermon . Every week .\\nLie down now , rest and we' il talk about this when you regain your senses .\\nPeople love violence , they' il slow down at a car wreck to check for bodies , same people claim to love boxing , they got no idea what it is .\\nGive his momma back her tights .\\nHey Sally , come here for a minute will ya ?\\nShe' d come 1800 miles but the ( adultra ) was still just over the hill .\\nJust pull the door closed when you leave .\\nNo sir .\\nNo sir .\\nWell dO your best lord , protect katie ...\\nThat ( ... ) ?\\nDoing good nicky , doing good . what' il ya have ?\\nAlready been working it for 3years .\\nMy god .\\nWhats the rule ?\\nI' ve got the breathing thing down .\\nThere in a feet .\\nI remember you leaving me with my dick in my hand behind that gas station .\\nYa , Here , keep the god damn thing .\\nAlways protect myself .\\nAlways protect myself .\\nI need somebody in the action that can make things happen , and i got to make a change before the fight .\\nI' il be damned flipper .\\nYeah well it might be a stretch but , you got to get yourself a place of your own .\\nWhy you telling me that ?\\nWhat was i supposed to do , just put him in over his head , not protect him ?\\nYeah , almost like someones been helping her .\\nWell i hate to say it but it shows .\\nHow long have i been telling you to save your money ?\\nWell I found him , I stuck with him for 8 years how' s that for not believing in him .\\nNobody tells you what that number is .\\nThat' s a girl man ?\\nHey Willie .\\nJust one of those questions you ask .\\nI mean for a girl .\\nWE' re not exactly close .\\nNo .\\nNo .\\nOh you dont have to thank me .\\nThere' s dozen of trainers who train girls , you wont have any trouble finding one .\\nBleach smells like bleach .\\nWell Looking for a good one .\\nOk one .\\nHey scruff ...\\nIts Yates , keep your head back .\\nEverybody gots a particular number of fights in em ,\\nYou came in here to tell me that Big willie is not talking to Mickie Mac ?\\nStop stop stop , god damnit stop .\\nIt smells better frankie .\\nThomas Hitman Earns to fight me for the welter weight championship of the whole world .\\nHow many times do i got to tell you that bleach is bleach .\\nSherrile , leave him alone .\\nSo i get to the title fight , and this guy takes you there .\\nWillie tell you why ?\\nYou could have gotten him a title fight 2 years ago , now he knew that i' m amazed he stayed around this long .\\nThe only reason you can romance at me is to wind me up , it' s not gonna happen this morning .\\nIt' s the rule , always protect yourself ,\\nJust say one please .\\nBout time .\\nYou know you save enough of it you get yourself a new house , cash no mortgage .\\nYou get yourself , bend your knees , get in an athletic position ,\\nIs it sorta like snap , crackle and pop all rolled up in one big box ?\\nYou uh , you forgot the rule , now what is the rule ?\\nLook I was late , Sally was just subbin for me .\\nThanks man .\\nYeah , not very big , used to be real athletic , dont know if she kept it up .\\nEvery week .\\nThe' re all kinds of combinations you come up against down in the different layers of meat and frankie knew how to work every one .\\nDrink your water .\\nMaybe you should , people seen me fight say i' m pretty tough .\\nWwhat do we do ? tell me what to do .\\nOk , if i' m gonna take you on ...\\nBilly was a former prostitue out of east Berlin , had a reputation for being the dirtiest fighter in the ranks .\\nI owe you money ?\\nWill do miss graff .\\nThank you .\\nThank you .\\nThank you .\\nIt' s just frankie and me .\\nIf you think that is more important .\\nLook you seem like a nice girl , can i give you some advice ?\\nYou want it ?\\nFrankie found out .\\nSo you been working on yourself , learning to open up that' s good work .\\nHold the bag stupid .\\nDont ' you say that , dont you say that if it aint true .\\nOk .\\n31 , until my next birthday .\\nI' il give you a ride .\\nSure .\\nThought i told you i didn' t want danger working out here anymore .\\nMmmhmm didn' t do you a lot good tho did it ?\\nAnytime .\\nSOmebody' s gotta be honest with ya .\\nYou spending all this time with me I didn' t know if you had any ?\\nWhat machine ?\\nProtect myself at all times .\\nWorking the bag boss .\\nI' il just borrow it til i can buy my own .\\nJust push will you ?\\nGood , cause i think your ready for a fight .\\nOk You did two things wrong .\\nShow em how to keep their balance and take it away from the other guy .\\nI know boss .\\nMaggie didn' t knock her out til the end of the first round , after that no manager wanted to put his fighter in with maggie .\\nNope .\\nAll fighters are pig headed someway or another , some part of them always thinks they know better than you about something . can you uh spare a few minutes for the immaculate conception ?\\nMr micky mack , i' m maggie fitzgerald , i hear your a real good manager doing good things for big Willie , but i' d thought you should know i aint never leaving mr dunn , so you dont need to make anymore excuses to bump into me , sorry for interrupting your dinner .\\nIs To protect yourself at all times .\\nIt' s a mistake .\\nDont really know sir .\\nLooks like She' s got something .\\nSome People say the most important thing a fighter can have is heart .\\nOk huh ?\\nHate to disagree with you .\\nThink your right .\\nThose some nice tights , danger .\\nFrankly i' d learn to protect your face a lil better wouldn' t have to turn down this money .\\nBobby wanted to move to florida and frankie wanted some security .\\nIt' s only thursday .\\nI' ve seen what you can do , fix it .\\nI' d appreciate that .\\nI' d appreciate that .\\nOnly way he' d do it , i' m sorry Frankie , i' m no longer waiting on a title , I wish you could have been with me .\\nEver since i fought Louis typhoon johnson at the stadium club in tupulo mississippi .\\nlooking for a girl sally ?\\nI dont care , get your teeth knocked out , i dont care ,\\nYeah well i got a ride , the guy took off before i hardly closed the door , had to walk back 2 miles .\\nHey what do i know , i just come cause i enjoy the fights .\\nHey you a bad man huh ? hey come on get in the ring , go a round with me .\\nHOw you doing ?\\nGo around wasting it on things that don' t matter and what you got ?\\nAll right ,\\nYou got any family boss ?\\nI dont train girls .\\nI dont train girls .\\nHe turned her down without even telling her .\\nYes he is .\\nDont ' call me boss now , i' m not your boss , and dont you be calling me that .\\nYour wasting your time , I told you I dont train girls .\\nOne .\\nThe body knows what fighters dont , how to protect itself .\\nYa .\\nNow what is the rule ?\\nJust working on my foot work mr ( name ) .\\nGood good .\\nIf i stop calling you boss will you train me ?\\nWhat the hell are you doing ?\\nHey , you know , I gots nothing against niggers .\\nGood girl .\\nHe turned that down too .\\nWillie you ready to work ?\\nMargret Fitgerald ?\\nGod this is a mistake already . mmm mmm i' m listening boss .\\nI' m gonna need that speed bag back .\\nYeah this is my fighter .\\nFine , you take her , she can' t fight worth a shit anyway .\\nYou were a hell of a fighter , a lot better than Willie , he get you a title fight or .. did he just bust you out banging your head against other people' s fist until you lost your eye ?\\nIs something wrong ?\\nNot a word , neither one of them .\\nHow much' s she paid ?\\nIf you say frankie .\\nCan' t think it was the bag .\\n1 is you asked a question and 2 is you asked another question .\\nDanger , i' m wearing these mits for a reason .\\nWell that' s nice to hear .\\nI know your momma ?\\nGo on home now .\\nReally ?\\nWhat' s confusing you this week ?\\nHello ?\\nIf yours behind the counter , wish i could say wheres it at\\nOww\\nHeya mr buda ..\\nHey come here , come here , your dropping your left hand , quit dropping your left hand .\\nEverytime you get into pressure your holding your breath , now stop doing that .\\nI hear ya boss .\\nIf there' s magic in boxing , its the magic of fighting battles beyond endurance , beyond cracked rips , ruptured kidneys and detached raetna' s .\\nFrankie liked to say that boxing was an unnatural act , that everything in boxing is backwards .\\nNice fight .\\nWhat do you want ?\\nI wonder .\\nYou telilng me that this is your fighter ?\\nOk , ( .. ) and then i throw a punch and it keeps dropping .\\nThe point is to get good , you can' t get good if you keep knockin em out in the first round , how am i gonna get you fights ?\\nSo it' s your birthday huh , how olds that make ya ?\\nhow to fight backin up so the other guy doesn' t wanna come after ya , then you gotta show em all over again , over and over and over til they think they were born that way .\\nJust do it like that , keep practicing .\\nAnswer the below query:\\nWhat should I know about this movie before recommending it to my 10 years old kid\\n\"},\n",
              " {'role': 'user',\n",
              "  'content': 'Could you go into more detail about the sentences choosen'}]"
            ]
          },
          "execution_count": 128,
          "metadata": {},
          "output_type": "execute_result"
        }
      ],
      "source": [
        "messages"
      ]
    }
  ],
  "metadata": {
    "colab": {
      "provenance": []
    },
    "kernelspec": {
      "display_name": "Python 3",
      "name": "python3"
    },
    "language_info": {
      "name": "python"
    }
  },
  "nbformat": 4,
  "nbformat_minor": 0
}
